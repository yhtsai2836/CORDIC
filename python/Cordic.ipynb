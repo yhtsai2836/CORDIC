{
 "cells": [
  {
   "cell_type": "code",
   "execution_count": 26,
   "metadata": {},
   "outputs": [
    {
     "name": "stdout",
     "output_type": "stream",
     "text": [
      "Entry: /usr/lib/python3/dist-packages/ipykernel_launcher.py\n",
      "System argument(s): 3\n",
      "Start of \"/usr/lib/python3/dist-packages/ipykernel_launcher.py\"\n",
      "============================\n",
      "degree=  15 radian= 0.2617993833333333 cos= 0.966076210141182 sin= 0.25887537002563477\n",
      "0.000150 0.000056\n",
      "degree=  30 radian= 0.5235987666666666 cos= 0.8661565035581589 sin= 0.500092551112175\n",
      "0.000131 0.000093\n",
      "degree=  45 radian= 0.78539815 cos= 0.7072307616472244 sin= 0.7072088122367859\n",
      "0.000124 0.000102\n",
      "degree=  60 radian= 1.0471975333333332 cos= 0.500092551112175 sin= 0.8661565035581589\n",
      "0.000093 0.000131\n",
      "degree=  75 radian= 1.3089969166666668 cos= 0.25887537002563477 sin= 0.966076210141182\n",
      "0.000056 0.000150\n",
      "Exit process\n"
     ]
    }
   ],
   "source": [
    "from __future__ import print_function\n",
    "from pynq import Overlay\n",
    "from pynq import MMIO\n",
    "import numpy as np\n",
    "import random\n",
    "\n",
    "overlay = Overlay(\"/home/xilinx/IPBitFile/Cordic.bit\")\n",
    "overlay.download()\n",
    "regIP = overlay.cordic_0\n",
    "\n",
    "PI= 3.1415926\n",
    "\n",
    "print(\"Entry:\", sys.argv[0])\n",
    "print(\"System argument(s):\", len(sys.argv))\n",
    "print(\"Start of \\\"\" + sys.argv[0] + \"\\\"\")\n",
    "\n",
    "print(\"============================\")\n",
    "for i in range(15, 90, 15):\n",
    "    th = i\n",
    "    radian = i*PI/180\n",
    "    sin_golden = np.sin(radian)\n",
    "    cos_golden = np.cos(radian)\n",
    "    regIP.write(0x10, int(radian*2**26))\n",
    "    sin_ip = regIP.read(0x18)\n",
    "    cos_ip = regIP.read(0x20)\n",
    "    sin_cordic = sin_ip / 2**26\n",
    "    cos_cordic = cos_ip / 2**26\n",
    "    print(\"degree= \", th, \"radian=\", radian, \"cos=\", cos_cordic, \"sin=\", sin_cordic)\n",
    "    sin_error = \"{0:.6f}\".format(abs(sin_cordic-sin_golden))   \n",
    "    cos_error = \"{0:.6f}\".format(abs(cos_cordic-cos_golden))     \n",
    "    print(cos_error, sin_error)\n",
    "print(\"Exit process\")"
   ]
  },
  {
   "cell_type": "code",
   "execution_count": null,
   "metadata": {},
   "outputs": [],
   "source": []
  }
 ],
 "metadata": {
  "kernelspec": {
   "display_name": "Python 3",
   "language": "python",
   "name": "python3"
  },
  "language_info": {
   "codemirror_mode": {
    "name": "ipython",
    "version": 3
   },
   "file_extension": ".py",
   "mimetype": "text/x-python",
   "name": "python",
   "nbconvert_exporter": "python",
   "pygments_lexer": "ipython3",
   "version": "3.6.5"
  }
 },
 "nbformat": 4,
 "nbformat_minor": 2
}
